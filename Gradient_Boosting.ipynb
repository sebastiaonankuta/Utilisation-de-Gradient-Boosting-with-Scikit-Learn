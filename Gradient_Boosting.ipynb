{
 "cells": [
  {
   "cell_type": "markdown",
   "metadata": {},
   "source": [
    "# Utilisation de Gradient Boosting avec Scikit-Learn, XGBoost, LightGBM, and CatBoost. Le Boost est utilisé pour des problèmes de modélisation prédictive structurés, tels que la classification et la régression sur des données tabulaires"
   ]
  },
  {
   "cell_type": "markdown",
   "metadata": {},
   "source": [
    "Le Boost est utilisé pour des problèmes de modélisation prédictive structurés, tels que la classification et la régression sur des données tabulaires"
   ]
  },
  {
   "cell_type": "markdown",
   "metadata": {},
   "source": [
    "# A. Gradient Boosting Overview"
   ]
  },
  {
   "cell_type": "markdown",
   "metadata": {},
   "source": [
    "# 1 Gradient Boosting avec Scikit-Learn"
   ]
  },
  {
   "cell_type": "markdown",
   "metadata": {},
   "source": [
    "Exeemples: creer les données"
   ]
  },
  {
   "cell_type": "markdown",
   "metadata": {},
   "source": [
    "# 1. 1 Classification Dataset"
   ]
  },
  {
   "cell_type": "code",
   "execution_count": 85,
   "metadata": {},
   "outputs": [],
   "source": [
    "# importation de bibliotheques de classification\n",
    "from sklearn.datasets import make_classification\n",
    "# defib=nition de données\n",
    "X, y = make_classification(n_samples=4000, n_features=10, n_informative=3, n_redundant=3, random_state=1)\n"
   ]
  },
  {
   "cell_type": "code",
   "execution_count": 86,
   "metadata": {},
   "outputs": [
    {
     "name": "stdout",
     "output_type": "stream",
     "text": [
      "(4000, 10) (4000,)\n"
     ]
    }
   ],
   "source": [
    "# description de données importées\n",
    "print(X.shape, y.shape)"
   ]
  },
  {
   "cell_type": "markdown",
   "metadata": {},
   "source": [
    "import numpy as np\n",
    "XX = np.array(X)\n",
    "XX\n"
   ]
  },
  {
   "cell_type": "code",
   "execution_count": 87,
   "metadata": {},
   "outputs": [],
   "source": [
    "import pandas as pd\n",
    "data_X = pd.DataFrame(X)\n",
    "data_y = pd.DataFrame(y) "
   ]
  },
  {
   "cell_type": "code",
   "execution_count": 78,
   "metadata": {},
   "outputs": [
    {
     "data": {
      "text/html": [
       "<div>\n",
       "<style scoped>\n",
       "    .dataframe tbody tr th:only-of-type {\n",
       "        vertical-align: middle;\n",
       "    }\n",
       "\n",
       "    .dataframe tbody tr th {\n",
       "        vertical-align: top;\n",
       "    }\n",
       "\n",
       "    .dataframe thead th {\n",
       "        text-align: right;\n",
       "    }\n",
       "</style>\n",
       "<table border=\"1\" class=\"dataframe\">\n",
       "  <thead>\n",
       "    <tr style=\"text-align: right;\">\n",
       "      <th></th>\n",
       "      <th>0</th>\n",
       "      <th>1</th>\n",
       "      <th>2</th>\n",
       "      <th>3</th>\n",
       "      <th>4</th>\n",
       "      <th>5</th>\n",
       "      <th>6</th>\n",
       "      <th>7</th>\n",
       "      <th>8</th>\n",
       "      <th>9</th>\n",
       "    </tr>\n",
       "  </thead>\n",
       "  <tbody>\n",
       "    <tr>\n",
       "      <th>0</th>\n",
       "      <td>-0.847583</td>\n",
       "      <td>0.513344</td>\n",
       "      <td>-1.857945</td>\n",
       "      <td>1.225169</td>\n",
       "      <td>0.617926</td>\n",
       "      <td>-0.848673</td>\n",
       "      <td>-1.566150</td>\n",
       "      <td>-0.256182</td>\n",
       "      <td>2.168365</td>\n",
       "      <td>-0.243606</td>\n",
       "    </tr>\n",
       "    <tr>\n",
       "      <th>1</th>\n",
       "      <td>0.992209</td>\n",
       "      <td>-2.019688</td>\n",
       "      <td>1.730486</td>\n",
       "      <td>-1.562501</td>\n",
       "      <td>-0.024021</td>\n",
       "      <td>-1.575635</td>\n",
       "      <td>0.909082</td>\n",
       "      <td>-0.475067</td>\n",
       "      <td>-1.480980</td>\n",
       "      <td>0.256179</td>\n",
       "    </tr>\n",
       "    <tr>\n",
       "      <th>2</th>\n",
       "      <td>-0.098710</td>\n",
       "      <td>-0.277491</td>\n",
       "      <td>-1.270552</td>\n",
       "      <td>1.390654</td>\n",
       "      <td>-0.924631</td>\n",
       "      <td>-0.603540</td>\n",
       "      <td>0.925614</td>\n",
       "      <td>1.012763</td>\n",
       "      <td>-0.459974</td>\n",
       "      <td>-0.909877</td>\n",
       "    </tr>\n",
       "    <tr>\n",
       "      <th>3</th>\n",
       "      <td>-0.636802</td>\n",
       "      <td>1.276445</td>\n",
       "      <td>0.538620</td>\n",
       "      <td>0.455306</td>\n",
       "      <td>-0.080905</td>\n",
       "      <td>1.226225</td>\n",
       "      <td>0.670124</td>\n",
       "      <td>-1.577952</td>\n",
       "      <td>-0.849531</td>\n",
       "      <td>0.479065</td>\n",
       "    </tr>\n",
       "    <tr>\n",
       "      <th>4</th>\n",
       "      <td>2.545213</td>\n",
       "      <td>-0.273377</td>\n",
       "      <td>-1.263814</td>\n",
       "      <td>-0.908662</td>\n",
       "      <td>-0.454816</td>\n",
       "      <td>-1.211013</td>\n",
       "      <td>0.561942</td>\n",
       "      <td>-0.282086</td>\n",
       "      <td>-0.077339</td>\n",
       "      <td>-2.199512</td>\n",
       "    </tr>\n",
       "    <tr>\n",
       "      <th>...</th>\n",
       "      <td>...</td>\n",
       "      <td>...</td>\n",
       "      <td>...</td>\n",
       "      <td>...</td>\n",
       "      <td>...</td>\n",
       "      <td>...</td>\n",
       "      <td>...</td>\n",
       "      <td>...</td>\n",
       "      <td>...</td>\n",
       "      <td>...</td>\n",
       "    </tr>\n",
       "    <tr>\n",
       "      <th>3995</th>\n",
       "      <td>-0.912991</td>\n",
       "      <td>1.104763</td>\n",
       "      <td>1.375312</td>\n",
       "      <td>-0.264213</td>\n",
       "      <td>2.268093</td>\n",
       "      <td>-0.489268</td>\n",
       "      <td>-0.104797</td>\n",
       "      <td>0.304943</td>\n",
       "      <td>-0.389136</td>\n",
       "      <td>1.297456</td>\n",
       "    </tr>\n",
       "    <tr>\n",
       "      <th>3996</th>\n",
       "      <td>0.289805</td>\n",
       "      <td>-0.569722</td>\n",
       "      <td>-0.896843</td>\n",
       "      <td>-0.016165</td>\n",
       "      <td>0.471095</td>\n",
       "      <td>-0.745623</td>\n",
       "      <td>-0.854151</td>\n",
       "      <td>-0.846126</td>\n",
       "      <td>1.150432</td>\n",
       "      <td>-0.459045</td>\n",
       "    </tr>\n",
       "    <tr>\n",
       "      <th>3997</th>\n",
       "      <td>-0.057789</td>\n",
       "      <td>0.644886</td>\n",
       "      <td>0.020949</td>\n",
       "      <td>0.381751</td>\n",
       "      <td>0.338185</td>\n",
       "      <td>0.448149</td>\n",
       "      <td>0.743668</td>\n",
       "      <td>0.565916</td>\n",
       "      <td>-0.733649</td>\n",
       "      <td>-0.140820</td>\n",
       "    </tr>\n",
       "    <tr>\n",
       "      <th>3998</th>\n",
       "      <td>1.823743</td>\n",
       "      <td>0.916813</td>\n",
       "      <td>2.677399</td>\n",
       "      <td>-2.579896</td>\n",
       "      <td>0.059461</td>\n",
       "      <td>-2.044935</td>\n",
       "      <td>1.554086</td>\n",
       "      <td>0.482021</td>\n",
       "      <td>-2.432064</td>\n",
       "      <td>0.209045</td>\n",
       "    </tr>\n",
       "    <tr>\n",
       "      <th>3999</th>\n",
       "      <td>0.040585</td>\n",
       "      <td>-0.811422</td>\n",
       "      <td>1.386101</td>\n",
       "      <td>0.092051</td>\n",
       "      <td>-1.760339</td>\n",
       "      <td>-1.304831</td>\n",
       "      <td>2.296909</td>\n",
       "      <td>0.096568</td>\n",
       "      <td>-2.725608</td>\n",
       "      <td>0.213374</td>\n",
       "    </tr>\n",
       "  </tbody>\n",
       "</table>\n",
       "<p>4000 rows × 10 columns</p>\n",
       "</div>"
      ],
      "text/plain": [
       "             0         1         2         3         4         5         6  \\\n",
       "0    -0.847583  0.513344 -1.857945  1.225169  0.617926 -0.848673 -1.566150   \n",
       "1     0.992209 -2.019688  1.730486 -1.562501 -0.024021 -1.575635  0.909082   \n",
       "2    -0.098710 -0.277491 -1.270552  1.390654 -0.924631 -0.603540  0.925614   \n",
       "3    -0.636802  1.276445  0.538620  0.455306 -0.080905  1.226225  0.670124   \n",
       "4     2.545213 -0.273377 -1.263814 -0.908662 -0.454816 -1.211013  0.561942   \n",
       "...        ...       ...       ...       ...       ...       ...       ...   \n",
       "3995 -0.912991  1.104763  1.375312 -0.264213  2.268093 -0.489268 -0.104797   \n",
       "3996  0.289805 -0.569722 -0.896843 -0.016165  0.471095 -0.745623 -0.854151   \n",
       "3997 -0.057789  0.644886  0.020949  0.381751  0.338185  0.448149  0.743668   \n",
       "3998  1.823743  0.916813  2.677399 -2.579896  0.059461 -2.044935  1.554086   \n",
       "3999  0.040585 -0.811422  1.386101  0.092051 -1.760339 -1.304831  2.296909   \n",
       "\n",
       "             7         8         9  \n",
       "0    -0.256182  2.168365 -0.243606  \n",
       "1    -0.475067 -1.480980  0.256179  \n",
       "2     1.012763 -0.459974 -0.909877  \n",
       "3    -1.577952 -0.849531  0.479065  \n",
       "4    -0.282086 -0.077339 -2.199512  \n",
       "...        ...       ...       ...  \n",
       "3995  0.304943 -0.389136  1.297456  \n",
       "3996 -0.846126  1.150432 -0.459045  \n",
       "3997  0.565916 -0.733649 -0.140820  \n",
       "3998  0.482021 -2.432064  0.209045  \n",
       "3999  0.096568 -2.725608  0.213374  \n",
       "\n",
       "[4000 rows x 10 columns]"
      ]
     },
     "execution_count": 78,
     "metadata": {},
     "output_type": "execute_result"
    }
   ],
   "source": [
    "#Visualiser le X\n",
    "data_X"
   ]
  },
  {
   "cell_type": "code",
   "execution_count": 79,
   "metadata": {},
   "outputs": [
    {
     "data": {
      "text/html": [
       "<div>\n",
       "<style scoped>\n",
       "    .dataframe tbody tr th:only-of-type {\n",
       "        vertical-align: middle;\n",
       "    }\n",
       "\n",
       "    .dataframe tbody tr th {\n",
       "        vertical-align: top;\n",
       "    }\n",
       "\n",
       "    .dataframe thead th {\n",
       "        text-align: right;\n",
       "    }\n",
       "</style>\n",
       "<table border=\"1\" class=\"dataframe\">\n",
       "  <thead>\n",
       "    <tr style=\"text-align: right;\">\n",
       "      <th></th>\n",
       "      <th>0</th>\n",
       "    </tr>\n",
       "  </thead>\n",
       "  <tbody>\n",
       "    <tr>\n",
       "      <th>0</th>\n",
       "      <td>1</td>\n",
       "    </tr>\n",
       "    <tr>\n",
       "      <th>1</th>\n",
       "      <td>0</td>\n",
       "    </tr>\n",
       "    <tr>\n",
       "      <th>2</th>\n",
       "      <td>1</td>\n",
       "    </tr>\n",
       "    <tr>\n",
       "      <th>3</th>\n",
       "      <td>1</td>\n",
       "    </tr>\n",
       "    <tr>\n",
       "      <th>4</th>\n",
       "      <td>1</td>\n",
       "    </tr>\n",
       "    <tr>\n",
       "      <th>...</th>\n",
       "      <td>...</td>\n",
       "    </tr>\n",
       "    <tr>\n",
       "      <th>3995</th>\n",
       "      <td>1</td>\n",
       "    </tr>\n",
       "    <tr>\n",
       "      <th>3996</th>\n",
       "      <td>0</td>\n",
       "    </tr>\n",
       "    <tr>\n",
       "      <th>3997</th>\n",
       "      <td>1</td>\n",
       "    </tr>\n",
       "    <tr>\n",
       "      <th>3998</th>\n",
       "      <td>0</td>\n",
       "    </tr>\n",
       "    <tr>\n",
       "      <th>3999</th>\n",
       "      <td>1</td>\n",
       "    </tr>\n",
       "  </tbody>\n",
       "</table>\n",
       "<p>4000 rows × 1 columns</p>\n",
       "</div>"
      ],
      "text/plain": [
       "      0\n",
       "0     1\n",
       "1     0\n",
       "2     1\n",
       "3     1\n",
       "4     1\n",
       "...  ..\n",
       "3995  1\n",
       "3996  0\n",
       "3997  1\n",
       "3998  0\n",
       "3999  1\n",
       "\n",
       "[4000 rows x 1 columns]"
      ]
     },
     "execution_count": 79,
     "metadata": {},
     "output_type": "execute_result"
    }
   ],
   "source": [
    "#Visualiser le y\n",
    "data_y"
   ]
  },
  {
   "cell_type": "markdown",
   "metadata": {},
   "source": [
    "Regarder le site sckit_learn: https://scikit-learn.org/stable/modules/generated/sklearn.datasets.make_classification.html\n",
    "pour plus d'information "
   ]
  },
  {
   "cell_type": "code",
   "execution_count": 80,
   "metadata": {},
   "outputs": [
    {
     "name": "stdout",
     "output_type": "stream",
     "text": [
      "Accuracy: 0.903 (0.013)\n"
     ]
    }
   ],
   "source": [
    "from numpy import mean\n",
    "from numpy import std\n",
    "from sklearn.ensemble import GradientBoostingClassifier\n",
    "from sklearn.model_selection import cross_val_score\n",
    "from sklearn.model_selection import RepeatedStratifiedKFold\n",
    "from matplotlib import pyplot\n",
    "\n",
    "# evaluation du model\n",
    "model = GradientBoostingClassifier()\n",
    "#Kfold ---> La validation croisée\n",
    "cv = RepeatedStratifiedKFold(n_splits=10, n_repeats=3, random_state=1)\n",
    "n_scores = cross_val_score(model, X, y, scoring='accuracy', cv=cv, n_jobs=-1, error_score='raise')\n",
    "print('Accuracy: %.3f (%.3f)' % (mean(n_scores), std(n_scores)))\n"
   ]
  },
  {
   "cell_type": "code",
   "execution_count": 81,
   "metadata": {},
   "outputs": [
    {
     "data": {
      "text/plain": [
       "array([0.9075, 0.8925, 0.8975, 0.915 , 0.8925, 0.8975, 0.91  , 0.9125,\n",
       "       0.9125, 0.8925, 0.8875, 0.8975, 0.91  , 0.9225, 0.9   , 0.9   ,\n",
       "       0.9025, 0.8975, 0.935 , 0.895 , 0.8725, 0.9175, 0.8925, 0.895 ,\n",
       "       0.895 , 0.8975, 0.895 , 0.905 , 0.93  , 0.9075])"
      ]
     },
     "execution_count": 81,
     "metadata": {},
     "output_type": "execute_result"
    }
   ],
   "source": [
    "n_scores"
   ]
  },
  {
   "cell_type": "code",
   "execution_count": 82,
   "metadata": {},
   "outputs": [
    {
     "name": "stdout",
     "output_type": "stream",
     "text": [
      "Prediction: 0\n"
     ]
    }
   ],
   "source": [
    "\n",
    "# adapter le modèle à l'ensemble de données\n",
    "model = GradientBoostingClassifier()\n",
    "model.fit(X, y)\n",
    "# faire une simple prediction\n",
    "\n",
    "#donnnées de X sur la premiere ligne du data_X\n",
    "#row = [[2.569995,-0.130200,3.160751,-4.359364,-1.612720,-1.393521,-2.489249,-1.930941,3.261304,2.056921]]\n",
    "\n",
    "#test nouveux donnée\n",
    "row = [[2.56999479, -0.13019997, 3.16075093, -4.35936352, -1.61271951, -1.39352057, -2.48924933, -1.93094078, 3.26130366, 2.05692145]]\n",
    "yhat = model.predict(row)\n",
    "print('Prediction: %d' % yhat[0])"
   ]
  },
  {
   "cell_type": "markdown",
   "metadata": {},
   "source": [
    "Une autre alternative pour implementer le BOOST: est d'utiliser Histogram-Based Gradient Boosting"
   ]
  },
  {
   "cell_type": "markdown",
   "metadata": {},
   "source": [
    "# 1.2 Gradient Boosting Machine pour la classification"
   ]
  },
  {
   "cell_type": "markdown",
   "metadata": {},
   "source": [
    "on reprend le code d'avant puis on change simplement lew models\n"
   ]
  },
  {
   "cell_type": "code",
   "execution_count": 83,
   "metadata": {},
   "outputs": [
    {
     "name": "stdout",
     "output_type": "stream",
     "text": [
      "Accuracy: 0.903 (0.011)\n"
     ]
    }
   ],
   "source": [
    "from sklearn.experimental import enable_hist_gradient_boosting\n",
    "from sklearn.ensemble import HistGradientBoostingClassifier\n",
    "\n",
    "# definition du model\n",
    "model = HistGradientBoostingClassifier()\n",
    "cv = RepeatedStratifiedKFold(n_splits=10, n_repeats=3, random_state=1)\n",
    "n_scores = cross_val_score(model, X, y, scoring='accuracy', cv=cv, n_jobs=-1, error_score='raise')\n",
    "print('Accuracy: %.3f (%.3f)' % (mean(n_scores), std(n_scores)))\n"
   ]
  },
  {
   "cell_type": "code",
   "execution_count": 84,
   "metadata": {},
   "outputs": [
    {
     "name": "stdout",
     "output_type": "stream",
     "text": [
      "Prediction: 0\n"
     ]
    }
   ],
   "source": [
    "# adapter le modèle à l'ensemble de données\n",
    "model = HistGradientBoostingClassifier()\n",
    "model.fit(X, y)\n",
    "# make a single prediction\n",
    "row = [[2.56999479, -0.13019997, 3.16075093, -4.35936352, -1.61271951, -1.39352057, -2.48924933, -1.93094078, 3.26130366, 2.05692145]]\n",
    "yhat = model.predict(row)\n",
    "print('Prediction: %d' % yhat[0])"
   ]
  },
  {
   "cell_type": "markdown",
   "metadata": {},
   "source": [
    "remarque: La differeence est sur la valeur numerique de la precision.\n",
    "    vous pouvez tester plusieurs fois pour voir quelles sont les avantages entre les deux methodes\n",
    "    \n",
    "    "
   ]
  },
  {
   "cell_type": "markdown",
   "metadata": {},
   "source": [
    "# B. Gradient Boosting avec XGBoost"
   ]
  },
  {
   "cell_type": "markdown",
   "metadata": {},
   "source": [
    "XGBoost fournit une implémentation efficace de l'algorithme de Gradient Boosting"
   ]
  },
  {
   "cell_type": "markdown",
   "metadata": {},
   "source": [
    "remarque: il faut compiler les bibliotheques ci dessus avant de lancer le code ci-dessous si non vous aurez erreurs."
   ]
  },
  {
   "cell_type": "markdown",
   "metadata": {},
   "source": [
    "# 1. LightGBM for Classification"
   ]
  },
  {
   "cell_type": "code",
   "execution_count": 92,
   "metadata": {},
   "outputs": [],
   "source": [
    "from lightgbm import LGBMClassifier"
   ]
  },
  {
   "cell_type": "code",
   "execution_count": 93,
   "metadata": {},
   "outputs": [
    {
     "name": "stdout",
     "output_type": "stream",
     "text": [
      "Accuracy: 0.934 (0.021)\n"
     ]
    }
   ],
   "source": [
    "# definition du dataset\n",
    "X, y = make_classification(n_samples=1000, n_features=10, n_informative=5, n_redundant=5, random_state=1)\n",
    "# evaluation du model\n",
    "model = LGBMClassifier()\n",
    "cv = RepeatedStratifiedKFold(n_splits=10, n_repeats=3, random_state=1)\n",
    "n_scores = cross_val_score(model, X, y, scoring='accuracy', cv=cv, n_jobs=-1, error_score='raise')\n",
    "print('Accuracy: %.3f (%.3f)' % (mean(n_scores), std(n_scores)))\n",
    "# fit le l$model\n",
    "model = LGBMClassifier()\n",
    "model.fit(X, y)\n",
    "# prediction simple\n",
    "row = [[2.56999479, -0.13019997, 3.16075093, -4.35936352, -1.61271951, -1.39352057, -2.48924933, -1.93094078, 3.26130366, 2.05692145]]\n",
    "yhat = model.predict(row)"
   ]
  },
  {
   "cell_type": "code",
   "execution_count": null,
   "metadata": {},
   "outputs": [],
   "source": []
  },
  {
   "cell_type": "markdown",
   "metadata": {},
   "source": [
    "# B. Gradient Boosting avec CatBoost"
   ]
  },
  {
   "cell_type": "markdown",
   "metadata": {},
   "source": [
    "CatBoost fournit une implémentation efficace de l'algorithme de Gradient Boosting.\n",
    "\n",
    "Le principal avantage du CatBoost est la prise en charge des variables d'entrée catégorielles."
   ]
  },
  {
   "cell_type": "code",
   "execution_count": 97,
   "metadata": {},
   "outputs": [
    {
     "name": "stdout",
     "output_type": "stream",
     "text": [
      "Accuracy: 0.926 (0.026)\n",
      "Prediction: 1\n"
     ]
    }
   ],
   "source": [
    "from catboost import CatBoostClassifier\n",
    "\n",
    "model = CatBoostClassifier(verbose=0, n_estimators=100)\n",
    "cv = RepeatedStratifiedKFold(n_splits=10, n_repeats=3, random_state=1)\n",
    "n_scores = cross_val_score(model, X, y, scoring='accuracy', cv=cv, n_jobs=-1, error_score='raise')\n",
    "print('Accuracy: %.3f (%.3f)' % (mean(n_scores), std(n_scores)))\n",
    "\n",
    "model = CatBoostClassifier(verbose=0, n_estimators=100)\n",
    "model.fit(X, y)\n",
    "\n",
    "row = [[2.56999479, -0.13019997, 3.16075093, -4.35936352, -1.61271951, -1.39352057, -2.48924933, -1.93094078, 3.26130366, 2.05692145]]\n",
    "yhat = model.predict(row)\n",
    "print('Prediction: %d' % yhat[0])"
   ]
  },
  {
   "cell_type": "code",
   "execution_count": 96,
   "metadata": {},
   "outputs": [
    {
     "name": "stdout",
     "output_type": "stream",
     "text": [
      "0.24.4\n"
     ]
    }
   ],
   "source": [
    "import catboost\n",
    "print(catboost.__version__)"
   ]
  },
  {
   "cell_type": "code",
   "execution_count": null,
   "metadata": {},
   "outputs": [],
   "source": []
  }
 ],
 "metadata": {
  "kernelspec": {
   "display_name": "Python 3",
   "language": "python",
   "name": "python3"
  },
  "language_info": {
   "codemirror_mode": {
    "name": "ipython",
    "version": 3
   },
   "file_extension": ".py",
   "mimetype": "text/x-python",
   "name": "python",
   "nbconvert_exporter": "python",
   "pygments_lexer": "ipython3",
   "version": "3.7.9"
  }
 },
 "nbformat": 4,
 "nbformat_minor": 4
}
